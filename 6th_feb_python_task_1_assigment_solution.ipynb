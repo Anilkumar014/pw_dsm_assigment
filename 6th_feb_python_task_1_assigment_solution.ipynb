{
 "cells": [
  {
   "cell_type": "markdown",
   "id": "07deddd0",
   "metadata": {},
   "source": [
    "## 6th_feb_python_task_1_assigment_solution"
   ]
  },
  {
   "cell_type": "markdown",
   "id": "51e67089",
   "metadata": {},
   "source": [
    "Q1. Create a function which will take a list as an argument and return the product of all the numbers\n",
    "after creating a flat list.\n",
    "\n",
    "Use the below-given list as an argument for your function.\n",
    "\n",
    "list1 = [1,2,3,4, [44,55,66, True], False, (34,56,78,89,34), {1,2,3,3,2,1}, {1:34, \"key2\": [55, 67, 78, 89], 4: (45,\n",
    "22, 61, 34)}, [56, 'data science'], 'Machine Learning']\n",
    "\n",
    "Note: you must extract numeric keys and values of the dictionary also."
   ]
  },
  {
   "cell_type": "markdown",
   "id": "efd6f5f2",
   "metadata": {},
   "source": [
    "Answer:"
   ]
  },
  {
   "cell_type": "code",
   "execution_count": 12,
   "id": "2c7f9bd1",
   "metadata": {},
   "outputs": [],
   "source": [
    "#solution\n",
    "\n",
    "def multiply_numbers(lst):\n",
    "    flat_list = []\n",
    "    for item in lst:\n",
    "        if type(item) == list or type(item) == tuple or type(item) == set:\n",
    "            flat_list.extend(list(item))\n",
    "        elif type(item) == dict:\n",
    "            for value in item.values():\n",
    "                if type(value) == int or type(value) == float:\n",
    "                    flat_list.append(value)\n",
    "                elif type(value) == list or type(value) == tuple or type(value) == set:\n",
    "                    flat_list.extend(list(value))\n",
    "        elif type(item) == int or type(item) == float:\n",
    "            flat_list.append(item)\n",
    "\n",
    "    product = 1\n",
    "    for num in flat_list:\n",
    "        if type(num) == int or type(num) == float:\n",
    "            product *= num\n",
    "\n",
    "    return product\n"
   ]
  },
  {
   "cell_type": "code",
   "execution_count": 13,
   "id": "d8bc1338",
   "metadata": {},
   "outputs": [
    {
     "name": "stdout",
     "output_type": "stream",
     "text": [
      "1033677959746771369708460310528000\n"
     ]
    }
   ],
   "source": [
    "list1 = [1,2,3,4, [44,55,66, True], False, (34,56,78,89,34), {1,2,3,3,2,1}, {1:34, \"key2\": [55, 67, 78, 89], 4: (45, 22, 61, 34)}, [56, 'data science'], 'Machine Learning']\n",
    "\n",
    "print(multiply_numbers(list1)) #output will product of all the number\n"
   ]
  },
  {
   "cell_type": "code",
   "execution_count": null,
   "id": "f5d7b388",
   "metadata": {},
   "outputs": [],
   "source": []
  },
  {
   "cell_type": "markdown",
   "id": "05b0a0fd",
   "metadata": {},
   "source": [
    "Q2. Write a python program for encrypting a message sent to you by your friend. The logic of encryption\n",
    "should be such that, for a the output should be z. For b, the output should be y. For c, the output should\n",
    "be x respectively. Also, the whitespace should be replaced with a dollar sign. Keep the punctuation\n",
    "marks unchanged.\n",
    "\n",
    "Input Sentence: I want to become a Data Scientist.\n",
    "\n",
    "Encrypt the above input sentence using the program you just created.\n",
    "\n",
    "Note: Convert the given input sentence into lowercase before encrypting. The final output should be\n",
    "lowercase."
   ]
  },
  {
   "cell_type": "markdown",
   "id": "ad14400c",
   "metadata": {},
   "source": [
    "Answer:"
   ]
  },
  {
   "cell_type": "code",
   "execution_count": 19,
   "id": "0ffd5424",
   "metadata": {},
   "outputs": [],
   "source": [
    "def encrypt_message(message):\n",
    "    # Convert message to lowercase\n",
    "    message = message.lower()\n",
    "    \n",
    "    # Create a dictionary to store the encryption logic\n",
    "    encryption_dict = {'a': 'z', 'b': 'y', 'c': 'x', 'd': 'w', 'e': 'v', 'f': 'u', 'g': 't', 'h': 's',\n",
    "                       'i': 'r', 'j': 'q', 'k': 'p', 'l': 'o', 'm': 'n', 'n': 'm', 'o': 'l', 'p': 'k', \n",
    "                       'q': 'j', 'r': 'i', 's': 'h', 't': 'g', 'u': 'f', 'v': 'e', 'w': 'd', 'x': 'c', \n",
    "                       'y': 'b', 'z': 'a'} # i am using z-a for encryption\n",
    "    \n",
    "    # Create an empty string to store the encrypted message\n",
    "    encrypted_message = ''\n",
    "    \n",
    "    # Loop through each character in the message\n",
    "    for char in message:\n",
    "        # Check if the character is a letter\n",
    "        if char.isalpha():\n",
    "            # Encrypt the letter using the encryption dictionary\n",
    "            encrypted_char = encryption_dict[char]\n",
    "        # Check if the character is a space\n",
    "        elif char.isspace():\n",
    "            # Replace the space with a dollar sign\n",
    "            encrypted_char = '@#$%&'\n",
    "        else:\n",
    "            # Keep the punctuation marks unchanged\n",
    "            encrypted_char = char\n",
    "        # Add the encrypted character to the encrypted message\n",
    "        encrypted_message += encrypted_char\n",
    "        \n",
    "    # Return the encrypted message\n",
    "    return encrypted_message\n"
   ]
  },
  {
   "cell_type": "code",
   "execution_count": 20,
   "id": "1a8e90ec",
   "metadata": {},
   "outputs": [
    {
     "name": "stdout",
     "output_type": "stream",
     "text": [
      "@#$%&kd@#$%&hprooh@#$%&wzgz@#$%&hxrvmxv@#$%&xlfihv@#$%&rh@#$%&gsv@#$%&yvhg@#$%&xlfihv@#$%&vevi\n"
     ]
    }
   ],
   "source": [
    "input_msg = ' PW SKills Data Science Course is the Best Course Ever'\n",
    "encrypted_sentence = encrypt_message(input_msg)\n",
    "print(encrypted_sentence)"
   ]
  },
  {
   "cell_type": "code",
   "execution_count": 21,
   "id": "9ef87111",
   "metadata": {},
   "outputs": [
    {
     "name": "stdout",
     "output_type": "stream",
     "text": [
      "Please Enter Your Msg: my name is anil kumar and i am data analyst\n",
      "nb@#$%&mznv@#$%&rh@#$%&zmro@#$%&pfnzi@#$%&zmw@#$%&r@#$%&zn@#$%&wzgz@#$%&zmzobhg\n"
     ]
    }
   ],
   "source": [
    "#for user input\n",
    "input_msg = input(\"Please Enter Your Msg: \")\n",
    "encrypted_sentence = encrypt_message(input_msg)\n",
    "print(encrypted_sentence)"
   ]
  },
  {
   "cell_type": "code",
   "execution_count": null,
   "id": "876c330d",
   "metadata": {},
   "outputs": [],
   "source": []
  }
 ],
 "metadata": {
  "kernelspec": {
   "display_name": "Python 3 (ipykernel)",
   "language": "python",
   "name": "python3"
  },
  "language_info": {
   "codemirror_mode": {
    "name": "ipython",
    "version": 3
   },
   "file_extension": ".py",
   "mimetype": "text/x-python",
   "name": "python",
   "nbconvert_exporter": "python",
   "pygments_lexer": "ipython3",
   "version": "3.9.7"
  },
  "varInspector": {
   "cols": {
    "lenName": 16,
    "lenType": 16,
    "lenVar": 40
   },
   "kernels_config": {
    "python": {
     "delete_cmd_postfix": "",
     "delete_cmd_prefix": "del ",
     "library": "var_list.py",
     "varRefreshCmd": "print(var_dic_list())"
    },
    "r": {
     "delete_cmd_postfix": ") ",
     "delete_cmd_prefix": "rm(",
     "library": "var_list.r",
     "varRefreshCmd": "cat(var_dic_list()) "
    }
   },
   "types_to_exclude": [
    "module",
    "function",
    "builtin_function_or_method",
    "instance",
    "_Feature"
   ],
   "window_display": false
  }
 },
 "nbformat": 4,
 "nbformat_minor": 5
}
