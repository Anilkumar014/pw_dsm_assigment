{
 "cells": [
  {
   "cell_type": "markdown",
   "id": "f3966fb4",
   "metadata": {},
   "source": [
    "## **7th Feb Task 2**"
   ]
  },
  {
   "cell_type": "raw",
   "id": "dd81d81b",
   "metadata": {},
   "source": [
    "#Q1. You are writing code for a company. The requirement of the company is that you create a python\n",
    "function that will check whether the password entered by the user is correct or not. The function should\n",
    "take the password as input and return the string “Valid Password” if the entered password follows the\n",
    "below-given password guidelines else it should return “Invalid Password”.\n",
    "Note: \n",
    "1. The Password should contain at least two uppercase letters and at least two lowercase letters.\n",
    "2. The Password should contain at least a number and three special characters.\n",
    "3. The length of the password should be 10 characters long."
   ]
  },
  {
   "cell_type": "code",
   "execution_count": 2,
   "id": "02361659",
   "metadata": {},
   "outputs": [],
   "source": [
    "#Answer 01\n",
    "def validate_password(password):\n",
    "    upper_count = 0\n",
    "    lower_count = 0\n",
    "    num_count = 0\n",
    "    special_count = 0\n",
    "\n",
    "    for char in password:\n",
    "        if char.isupper():\n",
    "            upper_count += 1\n",
    "        elif char.islower():\n",
    "            lower_count += 1\n",
    "        elif char.isdigit():\n",
    "            num_count += 1\n",
    "        elif not char.isalnum():\n",
    "            special_count += 1\n",
    "    \n",
    "    if upper_count >= 2 and lower_count >= 2 and num_count >= 1 and special_count >= 3 and len(password) == 10:\n",
    "        return \"Valid Password\"\n",
    "    else:\n",
    "        return \"Invalid Password\"\n"
   ]
  },
  {
   "cell_type": "code",
   "execution_count": 3,
   "id": "1d139cb7",
   "metadata": {},
   "outputs": [
    {
     "data": {
      "text/plain": [
       "'Invalid Password'"
      ]
     },
     "execution_count": 3,
     "metadata": {},
     "output_type": "execute_result"
    }
   ],
   "source": [
    "validate_password(\"Anil@123\")"
   ]
  },
  {
   "cell_type": "code",
   "execution_count": 4,
   "id": "32e81cd5",
   "metadata": {},
   "outputs": [
    {
     "data": {
      "text/plain": [
       "'Invalid Password'"
      ]
     },
     "execution_count": 4,
     "metadata": {},
     "output_type": "execute_result"
    }
   ],
   "source": [
    "validate_password(\"PWskill@2023\")"
   ]
  },
  {
   "cell_type": "code",
   "execution_count": 13,
   "id": "32644654",
   "metadata": {},
   "outputs": [
    {
     "data": {
      "text/plain": [
       "'Valid Password'"
      ]
     },
     "execution_count": 13,
     "metadata": {},
     "output_type": "execute_result"
    }
   ],
   "source": [
    "validate_password(\"PWskil2@#@\") #correct one"
   ]
  },
  {
   "cell_type": "markdown",
   "id": "ab2fdfb2",
   "metadata": {},
   "source": [
    "#Q2. Solve the below-given questions using at least one of the following:\n",
    "1. Lambda function\n",
    "2. Filter function\n",
    "3. Zap function\n",
    "4. List Comprehensiol"
   ]
  },
  {
   "cell_type": "raw",
   "id": "0fc467b4",
   "metadata": {},
   "source": [
    "#A. Check if the string starts with a particular letter ,eg. \"P\""
   ]
  },
  {
   "cell_type": "code",
   "execution_count": 18,
   "id": "cd94f4d1",
   "metadata": {},
   "outputs": [
    {
     "name": "stdout",
     "output_type": "stream",
     "text": [
      "[True, False, False]\n"
     ]
    }
   ],
   "source": [
    "#Ans with Map Function\n",
    "strings = [\"Python\", \"programming\", \"language\"]\n",
    "\n",
    "def starts_with_P(string):\n",
    "    return string.startswith(\"P\")\n",
    "\n",
    "result = list(map(starts_with_P, strings))\n",
    "print(result)\n"
   ]
  },
  {
   "cell_type": "markdown",
   "id": "b9bdf82d",
   "metadata": {},
   "source": [
    "#B. Check if the string is numeric"
   ]
  },
  {
   "cell_type": "code",
   "execution_count": 23,
   "id": "ae777ef7",
   "metadata": {},
   "outputs": [
    {
     "name": "stdout",
     "output_type": "stream",
     "text": [
      "True\n",
      "please enter anything123\n",
      "True\n"
     ]
    }
   ],
   "source": [
    "check_numeric = lambda x: x.isnumeric()\n",
    "\n",
    "print(check_numeric(\"12345\")) # True\n",
    "print(check_numeric(input(\"please enter anything\"))) \n"
   ]
  },
  {
   "cell_type": "markdown",
   "id": "8ed43372",
   "metadata": {},
   "source": [
    "#C.Sort a list of tuples having fruit names and their quantity. [(\"mango\",99),(\"orange\",80), (\"grapes\", 1000)]"
   ]
  },
  {
   "cell_type": "code",
   "execution_count": 25,
   "id": "8c52cca4",
   "metadata": {},
   "outputs": [
    {
     "name": "stdout",
     "output_type": "stream",
     "text": [
      "[('orange', 80), ('mango', 99), ('grapes', 1000)]\n"
     ]
    }
   ],
   "source": [
    "#Using lmbda function\n",
    "fruits = [(\"mango\",99),(\"orange\",80), (\"grapes\", 1000)]\n",
    "sorted_fruits = sorted(fruits, key=lambda x: x[1])\n",
    "print(sorted_fruits)"
   ]
  },
  {
   "cell_type": "markdown",
   "id": "4a26e1bd",
   "metadata": {},
   "source": [
    "#c. Find the squares of numbers from 1 to 10"
   ]
  },
  {
   "cell_type": "code",
   "execution_count": 28,
   "id": "731f821c",
   "metadata": {},
   "outputs": [
    {
     "name": "stdout",
     "output_type": "stream",
     "text": [
      "[0, 1, 4, 9, 16, 25, 36, 49, 64, 81, 100]\n"
     ]
    }
   ],
   "source": [
    "#List Comp\n",
    "\n",
    "sqr = [ i**2 for i in range(0,11)]\n",
    "print(sqr)"
   ]
  },
  {
   "cell_type": "code",
   "execution_count": 29,
   "id": "8108b689",
   "metadata": {},
   "outputs": [
    {
     "name": "stdout",
     "output_type": "stream",
     "text": [
      "[1.0, 1.26, 1.44, 1.59, 1.71, 1.82, 1.91, 2.0, 2.08, 2.15]\n"
     ]
    }
   ],
   "source": [
    "#Using Map\n",
    "\n",
    "import math\n",
    "numbers = range(1, 11)\n",
    "def find_cube_root(x):\n",
    "    return round(math.pow(x, 1/3), 2)\n",
    "cuberoot = list(map(find_cube_root, numbers))\n",
    "print(cuberoot)"
   ]
  },
  {
   "cell_type": "code",
   "execution_count": 31,
   "id": "0e9e18d0",
   "metadata": {},
   "outputs": [
    {
     "name": "stdout",
     "output_type": "stream",
     "text": [
      "Welcome to the Cube Root Duniya \n",
      " \n",
      "Please Enter Initial Number of Cube Root : \n",
      "1\n",
      "Please Enter Final Number of Cube Root : \n",
      "20\n",
      "[1.0, 1.26, 1.44, 1.59, 1.71, 1.82, 1.91, 2.0, 2.08, 2.15, 2.22, 2.29, 2.35, 2.41, 2.47, 2.52, 2.57, 2.62, 2.67, 2.71]\n"
     ]
    }
   ],
   "source": [
    "#user input\n",
    "\n",
    "import math\n",
    "print(\"Welcome to the Cube Root Duniya \\n \")\n",
    "in1= int(input(\"Please Enter Initial Number of Cube Root : \\n\"))\n",
    "in2= int(input(\"Please Enter Final Number of Cube Root : \\n\"))\n",
    "\n",
    "numbers = range(in1,in2+1)\n",
    "def find_cube_root(x):\n",
    "    return round(math.pow(x, 1/3), 2)\n",
    "cuberoot = list(map(find_cube_root, numbers))\n",
    "print(cuberoot)"
   ]
  },
  {
   "cell_type": "markdown",
   "id": "5c3dc39f",
   "metadata": {},
   "source": [
    "#D. Check if a given number is even."
   ]
  },
  {
   "cell_type": "code",
   "execution_count": 44,
   "id": "b5597e2d",
   "metadata": {},
   "outputs": [
    {
     "name": "stdout",
     "output_type": "stream",
     "text": [
      "Enter your digit : \n",
      " 123\n",
      "[False]\n"
     ]
    }
   ],
   "source": [
    "# List Com\n",
    "a = int(input(\"Enter your digit : \\n \"))\n",
    "even = [ True if a%2==0 else False]\n",
    "print(even)\n"
   ]
  },
  {
   "cell_type": "code",
   "execution_count": 45,
   "id": "6b860aa1",
   "metadata": {},
   "outputs": [],
   "source": [
    "#with Lambda\n",
    "is_even = lambda n: [True if n%2==0 else False]\n"
   ]
  },
  {
   "cell_type": "code",
   "execution_count": 47,
   "id": "a0b49411",
   "metadata": {},
   "outputs": [
    {
     "data": {
      "text/plain": [
       "[True]"
      ]
     },
     "execution_count": 47,
     "metadata": {},
     "output_type": "execute_result"
    }
   ],
   "source": [
    "is_even(4)"
   ]
  },
  {
   "cell_type": "raw",
   "id": "32f9ae09",
   "metadata": {},
   "source": [
    "#E.Filter odd numbers from the given list.\n",
    "[1,2,3,4,5,6,7,8,9,10]"
   ]
  },
  {
   "cell_type": "code",
   "execution_count": 46,
   "id": "d32fe525",
   "metadata": {},
   "outputs": [
    {
     "name": "stdout",
     "output_type": "stream",
     "text": [
      "[1, 3, 5, 7, 9]\n"
     ]
    }
   ],
   "source": [
    "# using Lambda and filter\n",
    "def is_odd(num):\n",
    "    return num % 2 != 0\n",
    "\n",
    "numbers = [1, 2, 3, 4, 5, 6, 7, 8, 9, 10]\n",
    "odd_numbers = list(filter(is_odd, numbers))\n",
    "\n",
    "print(odd_numbers)\n"
   ]
  },
  {
   "cell_type": "raw",
   "id": "2508e5d9",
   "metadata": {},
   "source": [
    "#F.Sort a list of integers into positive and negative integers lists.\n",
    "[1,2,3,4,5,6,-1,-2,-3,-4,-5,0]"
   ]
  },
  {
   "cell_type": "code",
   "execution_count": 48,
   "id": "eda9d343",
   "metadata": {},
   "outputs": [
    {
     "name": "stdout",
     "output_type": "stream",
     "text": [
      "Positive numbers: [1, 2, 3, 4, 5, 6]\n",
      "Negative numbers: [-1, -2, -3, -4, -5]\n"
     ]
    }
   ],
   "source": [
    "numbers = [1, 2, 3, 4, 5, 6, -1, -2, -3, -4, -5, 0]\n",
    "\n",
    "positive_numbers = [num for num in numbers if num > 0]\n",
    "negative_numbers = [num for num in numbers if num < 0]\n",
    "\n",
    "print(\"Positive numbers:\", positive_numbers)\n",
    "print(\"Negative numbers:\", negative_numbers)\n"
   ]
  },
  {
   "cell_type": "code",
   "execution_count": null,
   "id": "45f05a33",
   "metadata": {},
   "outputs": [],
   "source": []
  }
 ],
 "metadata": {
  "kernelspec": {
   "display_name": "Python 3 (ipykernel)",
   "language": "python",
   "name": "python3"
  },
  "language_info": {
   "codemirror_mode": {
    "name": "ipython",
    "version": 3
   },
   "file_extension": ".py",
   "mimetype": "text/x-python",
   "name": "python",
   "nbconvert_exporter": "python",
   "pygments_lexer": "ipython3",
   "version": "3.9.7"
  },
  "varInspector": {
   "cols": {
    "lenName": 16,
    "lenType": 16,
    "lenVar": 40
   },
   "kernels_config": {
    "python": {
     "delete_cmd_postfix": "",
     "delete_cmd_prefix": "del ",
     "library": "var_list.py",
     "varRefreshCmd": "print(var_dic_list())"
    },
    "r": {
     "delete_cmd_postfix": ") ",
     "delete_cmd_prefix": "rm(",
     "library": "var_list.r",
     "varRefreshCmd": "cat(var_dic_list()) "
    }
   },
   "types_to_exclude": [
    "module",
    "function",
    "builtin_function_or_method",
    "instance",
    "_Feature"
   ],
   "window_display": false
  }
 },
 "nbformat": 4,
 "nbformat_minor": 5
}
