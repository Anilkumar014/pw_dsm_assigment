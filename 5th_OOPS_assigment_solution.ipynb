{
 "cells": [
  {
   "cell_type": "markdown",
   "id": "f5f41279",
   "metadata": {},
   "source": [
    "## 5th_feb_oops_assigment_solution"
   ]
  },
  {
   "cell_type": "markdown",
   "id": "d8b69c1c",
   "metadata": {},
   "source": [
    "Q1. Explain Class and Object with respect to Object-Oriented Programming. Give a suitable example."
   ]
  },
  {
   "cell_type": "markdown",
   "id": "311669ad",
   "metadata": {},
   "source": [
    "Ans: In Object-Oriented Programming (OOP), a class is a blueprint or a template that defines the characteristics and behaviors of a set of objects. An object, on the other hand, is an instance of a class. It's a concrete representation of the class with its own state (data) and behavior (methods).\n",
    "\n",
    "For example, let's say we have a class called Person that defines the attributes and methods of a person. The Person class may have attributes such as name, age, gender, address, etc., and methods such as say_hello(), walk(), eat(), etc"
   ]
  },
  {
   "cell_type": "code",
   "execution_count": 1,
   "id": "127723a9",
   "metadata": {},
   "outputs": [],
   "source": [
    "#example\n",
    "# Define the class\n",
    "class Person:\n",
    "    def __init__(self, name, age, gender, address):\n",
    "        self.name = name\n",
    "        self.age = age\n",
    "        self.gender = gender\n",
    "        self.address = address\n",
    "        \n",
    "    def say_hello(self):\n",
    "        print(f\"Hello, my name is {self.name}!\")\n",
    "        \n",
    "    def walk(self):\n",
    "        print(f\"{self.name} is walking.\")\n",
    "        \n",
    "    def eat(self):\n",
    "        print(f\"{self.name} is eating.\")\n",
    "        \n"
   ]
  },
  {
   "cell_type": "code",
   "execution_count": null,
   "id": "b8539081",
   "metadata": {},
   "outputs": [],
   "source": []
  },
  {
   "cell_type": "markdown",
   "id": "de1c90f4",
   "metadata": {},
   "source": [
    "Q2. Name the four pillars of OOPs."
   ]
  },
  {
   "cell_type": "markdown",
   "id": "c1d51899",
   "metadata": {},
   "source": [
    "Ans:\n",
    "The four pillars of OOP are:\n",
    "\n",
    "Encapsulation\n",
    "\n",
    "Abstraction\n",
    "\n",
    "Inheritance\n",
    "\n",
    "Polymorphism\n"
   ]
  },
  {
   "cell_type": "code",
   "execution_count": null,
   "id": "9de478cd",
   "metadata": {},
   "outputs": [],
   "source": []
  },
  {
   "cell_type": "markdown",
   "id": "add470cd",
   "metadata": {},
   "source": [
    "Q3. Explain why the __init__() function is used. Give a suitable example."
   ]
  },
  {
   "cell_type": "markdown",
   "id": "59c2ca02",
   "metadata": {},
   "source": [
    "Answer:\n",
    "In object-oriented programming (OOP), the __init__() function is a special method that is called when an object of a class is created. It is used to initialize the attributes of the object, setting them to default or specific values."
   ]
  },
  {
   "cell_type": "code",
   "execution_count": 2,
   "id": "4c48efd8",
   "metadata": {},
   "outputs": [
    {
     "name": "stdout",
     "output_type": "stream",
     "text": [
      "Toyota\n",
      "Camry\n",
      "2022\n",
      "red\n",
      "Honda\n",
      "Civic\n",
      "2021\n",
      "blue\n"
     ]
    }
   ],
   "source": [
    "#example\n",
    "class Car:\n",
    "    def __init__(self, make, model, year, color):\n",
    "        self.make = make\n",
    "        self.model = model\n",
    "        self.year = year\n",
    "        self.color = color\n",
    "\n",
    "car1 = Car(\"Toyota\", \"Camry\", 2022, \"red\")\n",
    "car2 = Car(\"Honda\", \"Civic\", 2021, \"blue\")\n",
    "\n",
    "print(car1.make)    \n",
    "print(car1.model)  \n",
    "print(car1.year)    \n",
    "print(car1.color)   \n",
    "\n",
    "print(car2.make)    \n",
    "print(car2.model)   \n",
    "print(car2.year)   \n",
    "print(car2.color)   \n"
   ]
  },
  {
   "cell_type": "code",
   "execution_count": null,
   "id": "e9930499",
   "metadata": {},
   "outputs": [],
   "source": []
  },
  {
   "cell_type": "markdown",
   "id": "aaacf7ec",
   "metadata": {},
   "source": [
    "Q4. Why self is used in OOPs?"
   ]
  },
  {
   "cell_type": "markdown",
   "id": "e7b10683",
   "metadata": {},
   "source": [
    "Answer: \n",
    "In Python, the self keyword is used to refer to the object that a method or attribute belongs to. When a method is called on an object, the object itself is automatically passed as the first argument to the method, and this argument is usually named self."
   ]
  },
  {
   "cell_type": "code",
   "execution_count": 3,
   "id": "a8d78480",
   "metadata": {},
   "outputs": [
    {
     "name": "stdout",
     "output_type": "stream",
     "text": [
      "Hello, my name is Alice\n",
      "Hello, my name is Bob\n"
     ]
    }
   ],
   "source": [
    "#example:\n",
    "class Person:\n",
    "    def __init__(self, name):\n",
    "        self.name = name\n",
    "\n",
    "    def greet(self):\n",
    "        print(\"Hello, my name is\", self.name)\n",
    "\n",
    "person1 = Person(\"Alice\")\n",
    "person2 = Person(\"Bob\")\n",
    "\n",
    "person1.greet()  # output: \"Hello, my name is Alice\"\n",
    "person2.greet()  # output: \"Hello, my name is Bob\"\n"
   ]
  },
  {
   "cell_type": "code",
   "execution_count": null,
   "id": "d10bea1d",
   "metadata": {},
   "outputs": [],
   "source": []
  },
  {
   "cell_type": "markdown",
   "id": "0a57a026",
   "metadata": {},
   "source": [
    "Q5. What is inheritance? Give an example for each type of inheritance."
   ]
  },
  {
   "cell_type": "markdown",
   "id": "10704a7b",
   "metadata": {},
   "source": [
    "ANSWER:\n",
    "\n",
    "Inheritance is a mechanism in object-oriented programming (OOP) that allows a new class to be based on an existing class. The new class, called the derived or child class, inherits properties and behavior from the existing class, called the base or parent class. In other words, the child class is a specialization or extension of the parent class.\n",
    "\n",
    "There are four types of inheritance in OOP:\n",
    "\n",
    "1. Single Inheritance: In single inheritance, a child class inherits from a single parent class.\n",
    "\n",
    "2. Multiple Inheritance: In multiple inheritance, a child class inherits from multiple parent classes.\n",
    "\n",
    "3. Multilevel Inheritance: In multilevel inheritance, a child class inherits from a parent class, which in turn inherits from another parent class.\n",
    "\n",
    "4. Hierarchical Inheritance: In hierarchical inheritance, multiple child classes inherit from a single parent class."
   ]
  },
  {
   "cell_type": "code",
   "execution_count": 4,
   "id": "6dc1d986",
   "metadata": {},
   "outputs": [
    {
     "name": "stdout",
     "output_type": "stream",
     "text": [
      "Meow\n"
     ]
    }
   ],
   "source": [
    "# example \n",
    "#for Single Inheritance\n",
    "\n",
    "class Animal:\n",
    "    def __init__(self, name):\n",
    "        self.name = name\n",
    "\n",
    "    def make_sound(self):\n",
    "        print(\"Unknown sound\")\n",
    "\n",
    "class Cat(Animal):\n",
    "    def make_sound(self):\n",
    "        print(\"Meow\")\n",
    "\n",
    "cat = Cat(\"Whiskers\")\n",
    "cat.make_sound()  # output: \"Meow\"\n"
   ]
  },
  {
   "cell_type": "code",
   "execution_count": 5,
   "id": "2542efda",
   "metadata": {},
   "outputs": [
    {
     "name": "stdout",
     "output_type": "stream",
     "text": [
      "Flying\n",
      "Swimming\n"
     ]
    }
   ],
   "source": [
    "#for Multiple Inheritance:\n",
    "class Flyable:\n",
    "    def fly(self):\n",
    "        print(\"Flying\")\n",
    "\n",
    "class Swimmable:\n",
    "    def swim(self):\n",
    "        print(\"Swimming\")\n",
    "\n",
    "class Amphibian(Flyable, Swimmable):\n",
    "    pass\n",
    "\n",
    "amphibian = Amphibian()\n",
    "amphibian.fly()  # output: \"Flying\"\n",
    "amphibian.swim()  # output: \"Swimming\"\n"
   ]
  },
  {
   "cell_type": "code",
   "execution_count": 6,
   "id": "e047fe4f",
   "metadata": {},
   "outputs": [
    {
     "name": "stdout",
     "output_type": "stream",
     "text": [
      "Meow\n"
     ]
    }
   ],
   "source": [
    "#for Multilevel Inheritance\n",
    "\n",
    "class Animal:\n",
    "    def __init__(self, name):\n",
    "        self.name = name\n",
    "\n",
    "    def make_sound(self):\n",
    "        print(\"Unknown sound\")\n",
    "\n",
    "class Cat(Animal):\n",
    "    def make_sound(self):\n",
    "        print(\"Meow\")\n",
    "\n",
    "class Kitten(Cat):\n",
    "    pass\n",
    "\n",
    "kitten = Kitten(\"Whiskers\")\n",
    "kitten.make_sound()  # output: \"Meow\"\n"
   ]
  },
  {
   "cell_type": "code",
   "execution_count": null,
   "id": "c3282d7c",
   "metadata": {},
   "outputs": [],
   "source": []
  }
 ],
 "metadata": {
  "kernelspec": {
   "display_name": "Python 3 (ipykernel)",
   "language": "python",
   "name": "python3"
  },
  "language_info": {
   "codemirror_mode": {
    "name": "ipython",
    "version": 3
   },
   "file_extension": ".py",
   "mimetype": "text/x-python",
   "name": "python",
   "nbconvert_exporter": "python",
   "pygments_lexer": "ipython3",
   "version": "3.9.7"
  },
  "varInspector": {
   "cols": {
    "lenName": 16,
    "lenType": 16,
    "lenVar": 40
   },
   "kernels_config": {
    "python": {
     "delete_cmd_postfix": "",
     "delete_cmd_prefix": "del ",
     "library": "var_list.py",
     "varRefreshCmd": "print(var_dic_list())"
    },
    "r": {
     "delete_cmd_postfix": ") ",
     "delete_cmd_prefix": "rm(",
     "library": "var_list.r",
     "varRefreshCmd": "cat(var_dic_list()) "
    }
   },
   "types_to_exclude": [
    "module",
    "function",
    "builtin_function_or_method",
    "instance",
    "_Feature"
   ],
   "window_display": false
  }
 },
 "nbformat": 4,
 "nbformat_minor": 5
}
