{
 "cells": [
  {
   "cell_type": "markdown",
   "id": "f59bd530",
   "metadata": {},
   "source": [
    "## 2nd feb Assigment Tuple List Dict"
   ]
  },
  {
   "cell_type": "markdown",
   "id": "9995d677",
   "metadata": {},
   "source": [
    "1. What are the characteristics of the tuples? Is tuple immutable?"
   ]
  },
  {
   "cell_type": "raw",
   "id": "44fea9dc",
   "metadata": {},
   "source": [
    "Ans :  a tuple is an ordered, immutable collection of objects. This means that once a tuple is created, its contents cannot be modified.\n",
    "\n",
    "> Here are some key characteristics of tuples in Python:\n",
    ">Tuples are enclosed in parentheses (), and the elements within a tuple are separated by commas.\n",
    ">Tuples can contain any type of Python object, including other tuples.\n",
    ">Tuples are ordered, meaning that the elements within a tuple have a specific order that will be maintained.\n",
    ">Tuples are indexed, meaning that you can access individual elements within a tuple using their position or index.\n",
    ">Tuples are immutable, meaning that once a tuple is created, its contents cannot be modified. This is different from lists, which are mutable and can be modified after they are created.\n",
    ">Because tuples are immutable, they are often used to store collections of data that should not be modified. "
   ]
  },
  {
   "cell_type": "markdown",
   "id": "7bae4e18",
   "metadata": {},
   "source": [
    "Q2. What are the two tuple methods in python? Give an example of each method. Give a reason why\n",
    "tuples have only two in-built methods as compared to Lists."
   ]
  },
  {
   "cell_type": "markdown",
   "id": "4a270584",
   "metadata": {},
   "source": [
    "Ans:\n",
    "there are two built-in methods for tuples: count() and index(). Here's a brief overview of each method\n",
    "\n",
    "along with an example:"
   ]
  },
  {
   "cell_type": "code",
   "execution_count": 1,
   "id": "2adda435",
   "metadata": {},
   "outputs": [
    {
     "name": "stdout",
     "output_type": "stream",
     "text": [
      "3\n"
     ]
    }
   ],
   "source": [
    "#count()\n",
    "\n",
    "my_tuple = (1, 2, 3, 4, 1, 1)\n",
    "count_ones = my_tuple.count(1)\n",
    "print(count_ones)  # Output: 3\n"
   ]
  },
  {
   "cell_type": "code",
   "execution_count": 2,
   "id": "16572d72",
   "metadata": {},
   "outputs": [
    {
     "name": "stdout",
     "output_type": "stream",
     "text": [
      "2\n"
     ]
    }
   ],
   "source": [
    "#index()\n",
    "my_tuple = ('a', 'b', 'c', 'd', 'e')\n",
    "index_c = my_tuple.index('c')\n",
    "print(index_c)  # Output: 2\n"
   ]
  },
  {
   "cell_type": "markdown",
   "id": "73b0c36d",
   "metadata": {},
   "source": [
    "Tuples have only two built-in methods (count() and index()) as compared to lists because tuples are designed to be immutable."
   ]
  },
  {
   "cell_type": "code",
   "execution_count": null,
   "id": "468c47d0",
   "metadata": {},
   "outputs": [],
   "source": []
  },
  {
   "cell_type": "markdown",
   "id": "a13b4de4",
   "metadata": {},
   "source": [
    "Q3. Which collection datatypes in python do not allow duplicate items? Write a code using a set to remove\n",
    "duplicates from the given list.\n",
    "List = [1, 1, 1, 2, 1, 3, 1, 4, 2, 1, 2, 2, 2, 3, 2, 4, 3, 1, 3, 2, 3, 3, 3, 4, 4, 1, 4, 2, 4, 3, 4, 4]"
   ]
  },
  {
   "cell_type": "markdown",
   "id": "77985e26",
   "metadata": {},
   "source": [
    "Ans:\n",
    "Python, the set datatype does not allow duplicate items. To remove duplicates from a given list, we can simply convert the list into a set using the set() function, and then convert the set back into a list using the list() function."
   ]
  },
  {
   "cell_type": "code",
   "execution_count": 3,
   "id": "bb95ca7c",
   "metadata": {},
   "outputs": [
    {
     "name": "stdout",
     "output_type": "stream",
     "text": [
      "[1, 2, 3, 4]\n"
     ]
    }
   ],
   "source": [
    "#code\n",
    "my_list = [1, 1, 1, 2, 1, 3, 1, 4, 2, 1, 2, 2, 2, 3, 2, 4, 3, 1, 3, 2, 3, 3, 3, 4, 4, 1, 4, 2, 4, 3, 4, 4]\n",
    "unique_list = list(set(my_list))\n",
    "print(unique_list)\n"
   ]
  },
  {
   "cell_type": "code",
   "execution_count": null,
   "id": "90fba1d8",
   "metadata": {},
   "outputs": [],
   "source": []
  },
  {
   "cell_type": "markdown",
   "id": "bda32444",
   "metadata": {},
   "source": [
    "Q4. Explain the difference between the union() and update() methods for a set. Give an example of\n",
    "each method.\n",
    "\n"
   ]
  },
  {
   "cell_type": "markdown",
   "id": "f176bb9c",
   "metadata": {},
   "source": [
    "Python, sets have two methods union() and update() that can be used to combine two sets. However, there is a difference in how these two methods work.\n",
    "\n",
    "union() method:\n",
    "The union() method returns a new set that contains all the unique elements from both the sets. It does not modify either of the original sets. The union() method can also take multiple sets as arguments, and it returns a new set that contains all the unique elements from all the sets."
   ]
  },
  {
   "cell_type": "code",
   "execution_count": 6,
   "id": "cd3db06b",
   "metadata": {},
   "outputs": [
    {
     "name": "stdout",
     "output_type": "stream",
     "text": [
      "{1, 2, 3, 4, 5, 6, 7}\n"
     ]
    }
   ],
   "source": [
    "#example union()\n",
    "\n",
    "set1 = {1, 2, 3}\n",
    "set2 = {3, 4, 5}\n",
    "set3 = {5, 6, 7}\n",
    "\n",
    "# Using union() method to combine sets\n",
    "new_set = set1.union(set2, set3)\n",
    "\n",
    "print(new_set)  # Output: {1, 2, 3, 4, 5, 6, 7}\n"
   ]
  },
  {
   "cell_type": "markdown",
   "id": "3fe1bdcc",
   "metadata": {},
   "source": [
    "The update() method adds all the elements from one set to another set. It modifies the original set on which it is called. The update() method can also take multiple sets as arguments, and it adds all the elements from all the sets to the original set."
   ]
  },
  {
   "cell_type": "code",
   "execution_count": 7,
   "id": "e68b4795",
   "metadata": {},
   "outputs": [
    {
     "name": "stdout",
     "output_type": "stream",
     "text": [
      "{1, 2, 3, 4, 5, 6, 7}\n"
     ]
    }
   ],
   "source": [
    "#example update()\n",
    "\n",
    "set1 = {1, 2, 3}\n",
    "set2 = {3, 4, 5}\n",
    "set3 = {5, 6, 7}\n",
    "\n",
    "# Using update() method to add set2 and set3 to set1\n",
    "set1.update(set2, set3)\n",
    "\n",
    "print(set1)  # Output: {1, 2, 3, 4, 5, 6, 7}\n"
   ]
  },
  {
   "cell_type": "code",
   "execution_count": null,
   "id": "959d877e",
   "metadata": {},
   "outputs": [],
   "source": []
  },
  {
   "cell_type": "markdown",
   "id": "14653a04",
   "metadata": {},
   "source": [
    "Q5. What is a dictionary? Give an example. Also, state whether a dictionary is ordered or unordered."
   ]
  },
  {
   "cell_type": "markdown",
   "id": "03f59a7c",
   "metadata": {},
   "source": [
    "Ans :a dictionary is a collection datatype that stores data in the form of key-value pairs. Each key in a dictionary maps to a corresponding value, much like a real-life dictionary where each word maps to its definition\n",
    "\n",
    "\n",
    "A dictionary is created using curly braces {} with key-value pairs separated by a colon :. Here's an example:"
   ]
  },
  {
   "cell_type": "code",
   "execution_count": 11,
   "id": "676f686a",
   "metadata": {},
   "outputs": [],
   "source": [
    "#example\n",
    "books_cost = { \"Atomic Habit\": 250, \"IKIGAI\" : 460}\n",
    "\n",
    "#A dictionary in Python is an unordered collection of elements."
   ]
  },
  {
   "cell_type": "code",
   "execution_count": null,
   "id": "baf763b1",
   "metadata": {},
   "outputs": [],
   "source": []
  },
  {
   "cell_type": "markdown",
   "id": "3cff2afb",
   "metadata": {},
   "source": [
    "Q6. Can we create a nested dictionary? If so, please give an example by creating a simple one-level\n",
    "nested dictionary."
   ]
  },
  {
   "cell_type": "markdown",
   "id": "1481b0e6",
   "metadata": {},
   "source": [
    "Ans:\n",
    "    \n",
    "Yes, in Python, we can create a nested dictionary which is a dictionary that contains another dictionary as its value. This is sometimes referred to as a \"dictionary of dictionaries\"."
   ]
  },
  {
   "cell_type": "code",
   "execution_count": 12,
   "id": "c46a5985",
   "metadata": {},
   "outputs": [],
   "source": [
    "#example\n",
    "\n",
    "my_dict = {\n",
    "  'apple': {'color': 'red', 'price': 1.5},\n",
    "  'banana': {'color': 'yellow', 'price': 0.5},\n",
    "  'orange': {'color': 'orange', 'price': 1.0}\n",
    "}\n"
   ]
  },
  {
   "cell_type": "code",
   "execution_count": 13,
   "id": "1b12e49b",
   "metadata": {},
   "outputs": [
    {
     "name": "stdout",
     "output_type": "stream",
     "text": [
      "1.5\n"
     ]
    }
   ],
   "source": [
    "print(my_dict['apple']['price'])\n"
   ]
  },
  {
   "cell_type": "code",
   "execution_count": null,
   "id": "139a515b",
   "metadata": {},
   "outputs": [],
   "source": []
  },
  {
   "cell_type": "markdown",
   "id": "cb6c1a85",
   "metadata": {},
   "source": [
    "Q7. Using setdefault() method, create key named topics in the given dictionary and also add the value of the key as this list ['Python', 'Machine Learning’, 'Deep Learning']\n",
    "\n",
    "\n",
    "dict1 = {'language' : 'Python', 'course': 'Data Science Masters'}"
   ]
  },
  {
   "cell_type": "code",
   "execution_count": 14,
   "id": "2f9e5320",
   "metadata": {},
   "outputs": [
    {
     "data": {
      "text/plain": [
       "['Python', 'Machine Learning', 'Deep Learning']"
      ]
     },
     "execution_count": 14,
     "metadata": {},
     "output_type": "execute_result"
    }
   ],
   "source": [
    "#ans\n",
    "\n",
    "dict1 = {'language' : 'Python', 'course': 'Data Science Masters'}\n",
    "dict1.setdefault('topics', ['Python', 'Machine Learning', 'Deep Learning'])\n"
   ]
  },
  {
   "cell_type": "markdown",
   "id": "80934dd6",
   "metadata": {},
   "source": [
    "The setdefault() method checks if the key 'topics' exists in the dictionary dict1. If it does not exist, it adds the key to the dictionary and sets its value to the second argument of the method, which is the list ['Python', 'Machine Learning', 'Deep Learning']. If the key already exists, setdefault() returns its value without modifying the dictionary.m"
   ]
  },
  {
   "cell_type": "code",
   "execution_count": null,
   "id": "8c9f7ee4",
   "metadata": {},
   "outputs": [],
   "source": []
  },
  {
   "cell_type": "markdown",
   "id": "79f6f502",
   "metadata": {},
   "source": [
    "Q8. What are the three view objects in dictionaries? Use the three in-built methods in python to display\n",
    "these three view objects for the given dictionary.\n",
    "dict1 = {'Sport': 'Cricket' , \n",
    "'Teams': ['India', 'Australia', 'England', 'South Africa', 'Sri Lanka', 'New Zealand']}"
   ]
  },
  {
   "cell_type": "markdown",
   "id": "a7c68696",
   "metadata": {},
   "source": [
    "Ans:\n",
    "dict_keys: This view object contains the keys of the dictionary.\n",
    "\n",
    "dict_values: This view object contains the values of the dictionary.\n",
    "\n",
    "dict_items: This view object contains the key-value pairs of the dictionary as tuples."
   ]
  },
  {
   "cell_type": "code",
   "execution_count": 16,
   "id": "17025198",
   "metadata": {},
   "outputs": [
    {
     "name": "stdout",
     "output_type": "stream",
     "text": [
      "dict_keys(['Sport', 'Teams'])\n",
      "dict_values(['Cricket', ['India', 'Australia', 'England', 'South Africa', 'Sri Lanka', 'New Zealand']])\n",
      "dict_items([('Sport', 'Cricket'), ('Teams', ['India', 'Australia', 'England', 'South Africa', 'Sri Lanka', 'New Zealand'])])\n"
     ]
    }
   ],
   "source": [
    "#example\n",
    "\n",
    "dict1 = {'Sport': 'Cricket' , 'Teams': ['India', 'Australia', 'England', 'South Africa', 'Sri Lanka', 'New Zealand']}\n",
    "\n",
    "# Get the dict_keys view object\n",
    "keys_view = dict1.keys()\n",
    "print(keys_view)\n",
    "\n",
    "# Get the dict_values view object\n",
    "values_view = dict1.values()\n",
    "print(values_view)\n",
    "\n",
    "# Get the dict_items view object\n",
    "items_view = dict1.items()\n",
    "print(items_view)\n"
   ]
  },
  {
   "cell_type": "raw",
   "id": "1864a1b0",
   "metadata": {},
   "source": [
    "_________________Solution by Anil Kumar__anilkumar14.da@gmail.com___________________"
   ]
  },
  {
   "cell_type": "code",
   "execution_count": null,
   "id": "405fecd2",
   "metadata": {},
   "outputs": [],
   "source": []
  }
 ],
 "metadata": {
  "kernelspec": {
   "display_name": "Python 3 (ipykernel)",
   "language": "python",
   "name": "python3"
  },
  "language_info": {
   "codemirror_mode": {
    "name": "ipython",
    "version": 3
   },
   "file_extension": ".py",
   "mimetype": "text/x-python",
   "name": "python",
   "nbconvert_exporter": "python",
   "pygments_lexer": "ipython3",
   "version": "3.9.7"
  },
  "varInspector": {
   "cols": {
    "lenName": 16,
    "lenType": 16,
    "lenVar": 40
   },
   "kernels_config": {
    "python": {
     "delete_cmd_postfix": "",
     "delete_cmd_prefix": "del ",
     "library": "var_list.py",
     "varRefreshCmd": "print(var_dic_list())"
    },
    "r": {
     "delete_cmd_postfix": ") ",
     "delete_cmd_prefix": "rm(",
     "library": "var_list.r",
     "varRefreshCmd": "cat(var_dic_list()) "
    }
   },
   "types_to_exclude": [
    "module",
    "function",
    "builtin_function_or_method",
    "instance",
    "_Feature"
   ],
   "window_display": false
  }
 },
 "nbformat": 4,
 "nbformat_minor": 5
}
