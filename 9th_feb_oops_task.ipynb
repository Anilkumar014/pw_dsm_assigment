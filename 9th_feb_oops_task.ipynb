{
 "cells": [
  {
   "cell_type": "markdown",
   "id": "98dd9e6c",
   "metadata": {},
   "source": [
    "## **9th Feb OOPS TASK**"
   ]
  },
  {
   "cell_type": "markdown",
   "id": "f80b6994",
   "metadata": {},
   "source": [
    "#Q1, Create a vehicle class with an init method having instance variables as name_of_vehicle, max_speed and average_of_vehicle."
   ]
  },
  {
   "cell_type": "code",
   "execution_count": 1,
   "id": "9af347dc",
   "metadata": {},
   "outputs": [],
   "source": [
    "class Vehicle:\n",
    "    def __init__(self, name_of_vehicle, max_speed, average_of_vehicle):\n",
    "        self.name_of_vehicle = name_of_vehicle\n",
    "        self.max_speed = max_speed\n",
    "        self.average_of_vehicle = average_of_vehicle\n"
   ]
  },
  {
   "cell_type": "markdown",
   "id": "39ef62b7",
   "metadata": {},
   "source": [
    "#Q2. Create a child class car from the vehicle class created in Que 1, which will inherit the vehicle class.\n",
    "Create a method named seating_capacity which takes capacity as an argument and returns the name of\n",
    "the vehicle and its seating capacity."
   ]
  },
  {
   "cell_type": "code",
   "execution_count": 2,
   "id": "7565cf3b",
   "metadata": {},
   "outputs": [],
   "source": [
    "class Car(Vehicle):\n",
    "    def seating_capacity(self, capacity):\n",
    "        return f\"{self.name_of_vehicle} with a seating capacity of {capacity}\"\n"
   ]
  },
  {
   "cell_type": "markdown",
   "id": "786fcede",
   "metadata": {},
   "source": [
    "#Q3. What is multiple inheritance? Write a python code to demonstrate multiple inheritance."
   ]
  },
  {
   "cell_type": "code",
   "execution_count": 3,
   "id": "f50a528a",
   "metadata": {},
   "outputs": [
    {
     "name": "stdout",
     "output_type": "stream",
     "text": [
      "Parent1 method1\n",
      "Parent2 method2\n"
     ]
    }
   ],
   "source": [
    "class Parent1:\n",
    "    def func1(self):\n",
    "        print(\"Parent1 method1\")\n",
    "\n",
    "class Parent2:\n",
    "    def func2(self):\n",
    "        print(\"Parent2 method2\")\n",
    "\n",
    "class Child(Parent1, Parent2):\n",
    "    pass\n",
    "\n",
    "c = Child()\n",
    "c.func1() \n",
    "c.func2()\n"
   ]
  },
  {
   "cell_type": "markdown",
   "id": "87e97daa",
   "metadata": {},
   "source": [
    "#Q4. What are getter and setter in python? Create a class and create a getter and a setter method in this\n",
    "class."
   ]
  },
  {
   "cell_type": "markdown",
   "id": "4442918a",
   "metadata": {},
   "source": [
    "#Ans:- getter and a setter are methods used to access and modify the values of instance variables of an object. The getter method retrieves the value of an instance variable, while the setter method updates the value of an instance variable."
   ]
  },
  {
   "cell_type": "code",
   "execution_count": 4,
   "id": "e524f278",
   "metadata": {},
   "outputs": [],
   "source": [
    "class Person:\n",
    "    def __init__(self, name):\n",
    "        self._name = name\n",
    "\n",
    "    def get_name(self):\n",
    "        return self._name\n",
    "\n",
    "    def set_name(self, name):\n",
    "        self._name = name\n",
    "\n",
    "    name = property(get_name, set_name)\n"
   ]
  },
  {
   "cell_type": "markdown",
   "id": "3c198c5d",
   "metadata": {},
   "source": [
    "#Q5.What is method overriding in python? Write a python code to demonstrate method overriding."
   ]
  },
  {
   "cell_type": "markdown",
   "id": "f9a72453",
   "metadata": {},
   "source": [
    "#Ans-Method overriding is a feature in object-oriented programming where a subclass provides a new implementation for a method that is already defined in its superclass. The new implementation in the subclass \"overrides\" the original implementation in the superclass."
   ]
  },
  {
   "cell_type": "code",
   "execution_count": 6,
   "id": "f346646f",
   "metadata": {},
   "outputs": [
    {
     "name": "stdout",
     "output_type": "stream",
     "text": [
      "This message is from Sale\n"
     ]
    }
   ],
   "source": [
    "class Sale:\n",
    "      \n",
    "    def message(self):\n",
    "        print('This message is from Sale')\n",
    "class Department(Sale):\n",
    "    def message(self): #overrides\n",
    "        print('This message from Department is inherited from Sale and its override')\n",
    "sl = Sale()\n",
    "sl.message()"
   ]
  },
  {
   "cell_type": "code",
   "execution_count": 7,
   "id": "16edaee7",
   "metadata": {},
   "outputs": [
    {
     "name": "stdout",
     "output_type": "stream",
     "text": [
      "------------\n",
      "This message from Department is inherited from Sale and its override\n"
     ]
    }
   ],
   "source": [
    "print('------------')\n",
    "dept = Department()\n",
    "dept.message()"
   ]
  },
  {
   "cell_type": "code",
   "execution_count": null,
   "id": "ee6747a8",
   "metadata": {},
   "outputs": [],
   "source": []
  }
 ],
 "metadata": {
  "kernelspec": {
   "display_name": "Python 3 (ipykernel)",
   "language": "python",
   "name": "python3"
  },
  "language_info": {
   "codemirror_mode": {
    "name": "ipython",
    "version": 3
   },
   "file_extension": ".py",
   "mimetype": "text/x-python",
   "name": "python",
   "nbconvert_exporter": "python",
   "pygments_lexer": "ipython3",
   "version": "3.9.7"
  },
  "varInspector": {
   "cols": {
    "lenName": 16,
    "lenType": 16,
    "lenVar": 40
   },
   "kernels_config": {
    "python": {
     "delete_cmd_postfix": "",
     "delete_cmd_prefix": "del ",
     "library": "var_list.py",
     "varRefreshCmd": "print(var_dic_list())"
    },
    "r": {
     "delete_cmd_postfix": ") ",
     "delete_cmd_prefix": "rm(",
     "library": "var_list.r",
     "varRefreshCmd": "cat(var_dic_list()) "
    }
   },
   "types_to_exclude": [
    "module",
    "function",
    "builtin_function_or_method",
    "instance",
    "_Feature"
   ],
   "window_display": false
  }
 },
 "nbformat": 4,
 "nbformat_minor": 5
}
