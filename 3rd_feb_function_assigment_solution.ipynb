{
 "cells": [
  {
   "cell_type": "markdown",
   "id": "8de54c5f",
   "metadata": {},
   "source": [
    "## function Assigment Solution"
   ]
  },
  {
   "cell_type": "markdown",
   "id": "53763a2f",
   "metadata": {},
   "source": [
    "Q1. Which keyword is used to create a function? Create a function to return a list of odd numbers in the\n",
    "range of 1 to 25."
   ]
  },
  {
   "cell_type": "code",
   "execution_count": 1,
   "id": "240f19f3",
   "metadata": {},
   "outputs": [],
   "source": [
    "# The keyword used to create a function in Python is \"def\".\n",
    "\n",
    "#here is code\n",
    "\n",
    "def odd_numbers():\n",
    "    odds = []\n",
    "    for num in range(1, 26):\n",
    "        if num % 2 != 0:\n",
    "            odds.append(num)\n",
    "    return odds\n"
   ]
  },
  {
   "cell_type": "code",
   "execution_count": 3,
   "id": "b8132841",
   "metadata": {},
   "outputs": [
    {
     "name": "stdout",
     "output_type": "stream",
     "text": [
      "[1, 3, 5, 7, 9, 11, 13, 15, 17, 19, 21, 23, 25]\n"
     ]
    }
   ],
   "source": [
    "a= odd_numbers()\n",
    "print(a)"
   ]
  },
  {
   "cell_type": "code",
   "execution_count": null,
   "id": "6ebdb6f8",
   "metadata": {},
   "outputs": [],
   "source": []
  },
  {
   "cell_type": "markdown",
   "id": "771fbc5f",
   "metadata": {},
   "source": [
    "Q2. Why *args and **kwargs is used in some functions? Create a function each for *args and **kwargs to\n",
    "demonstrate their use."
   ]
  },
  {
   "cell_type": "markdown",
   "id": "f02cf94c",
   "metadata": {},
   "source": [
    "Ans:\n",
    "The *args and **kwargs parameters are used in Python functions to pass a variable number of arguments to a function.\n",
    "\n",
    "*args is used to pass a variable number of non-keyworded arguments to a function. It allows you to pass any number of arguments to the function. The * unpacks the arguments, which means that any arguments passed to the function will be collected into a tuple."
   ]
  },
  {
   "cell_type": "code",
   "execution_count": 4,
   "id": "bd52f6a8",
   "metadata": {},
   "outputs": [
    {
     "name": "stdout",
     "output_type": "stream",
     "text": [
      "50\n"
     ]
    }
   ],
   "source": [
    "#example for *args\n",
    "def add_numbers(*args):\n",
    "    result = 0\n",
    "    for num in args:\n",
    "        result += num\n",
    "    return result\n",
    "\n",
    "print(add_numbers(12,12,12,14))"
   ]
  },
  {
   "cell_type": "markdown",
   "id": "1dfe1a4d",
   "metadata": {},
   "source": [
    "**kwargs is used to pass a variable number of keyword arguments to a function. It allows you to pass any number of keyword arguments to the function. The ** unpacks the arguments, which means that any keyword arguments passed to the function will be collected into a dictionary.m"
   ]
  },
  {
   "cell_type": "code",
   "execution_count": 6,
   "id": "d9ad6b44",
   "metadata": {},
   "outputs": [
    {
     "name": "stdout",
     "output_type": "stream",
     "text": [
      "name: pwskill\n",
      "age: 20\n",
      "city: Banglore\n"
     ]
    }
   ],
   "source": [
    "#exmple for **kwargs\n",
    "\n",
    "def print_values(**kwargs):\n",
    "    for key, value in kwargs.items():\n",
    "        print(f\"{key}: {value}\")\n",
    "\n",
    "        \n",
    "print_values(name=\"pwskill\", age=20, city=\"Banglore\")\n"
   ]
  },
  {
   "cell_type": "code",
   "execution_count": null,
   "id": "9dc4f30d",
   "metadata": {},
   "outputs": [],
   "source": []
  },
  {
   "cell_type": "markdown",
   "id": "56610156",
   "metadata": {},
   "source": [
    "Q3. What is an iterator in python? Name the method used to initialise the iterator object and the method\n",
    "used for iteration. Use these methods to print the first five elements of the given list [2, 4, 6, 8, 10, 12, 14, 16,\n",
    "18, 20]."
   ]
  },
  {
   "cell_type": "markdown",
   "id": "f5943b97",
   "metadata": {},
   "source": [
    "\n",
    "Ans:\n",
    "\n",
    "An iterator in Python is an object that allows you to traverse a container (such as a list or a dictionary) and access its elements. The iterator provides a way to access the elements of a container one at a time without having to know the internal structure of the container.\n",
    "\n",
    "In Python, to create an iterator object, you can use the built-in iter() method. This method takes a container object as an argument and returns an iterator object that you can use to iterate over the container.\n",
    "\n",
    "To iterate over the elements of an iterator object, you can use the built-in next() method. This method retrieves the next element from the iterator and advances the iterator's internal pointer."
   ]
  },
  {
   "cell_type": "code",
   "execution_count": 7,
   "id": "0d668cf6",
   "metadata": {},
   "outputs": [
    {
     "name": "stdout",
     "output_type": "stream",
     "text": [
      "2\n",
      "4\n",
      "6\n",
      "8\n",
      "10\n"
     ]
    }
   ],
   "source": [
    "#exmple\n",
    "\n",
    "my_list = [2, 4, 6, 8, 10, 12, 14, 16, 18, 20]\n",
    "\n",
    "# Create an iterator object using the iter() method\n",
    "my_iterator = iter(my_list)\n",
    "\n",
    "# Use the next() method to iterate over the first five elements of the iterator\n",
    "print(next(my_iterator))  # Output: 2\n",
    "print(next(my_iterator))  # Output: 4\n",
    "print(next(my_iterator))  # Output: 6\n",
    "print(next(my_iterator))  # Output: 8\n",
    "print(next(my_iterator))  # Output: 10\n"
   ]
  },
  {
   "cell_type": "code",
   "execution_count": null,
   "id": "1dc20c68",
   "metadata": {},
   "outputs": [],
   "source": []
  },
  {
   "cell_type": "markdown",
   "id": "b2e3e956",
   "metadata": {},
   "source": [
    "Q4. What is a generator function in python? Why yield keyword is used? Give an example of a generator\n",
    "function."
   ]
  },
  {
   "cell_type": "markdown",
   "id": "d0390fd7",
   "metadata": {},
   "source": [
    "Ans:\n",
    "    \n",
    "A generator function is defined like a regular function, but instead of using the \"return\" keyword to return a value, it uses the \"yield\" keyword. When a generator function is called, it returns a generator object, which can be used to iterate over the sequence of values that the generator function generates."
   ]
  },
  {
   "cell_type": "code",
   "execution_count": 8,
   "id": "858464a3",
   "metadata": {},
   "outputs": [],
   "source": [
    "#example\n",
    "\n",
    "def fibonacci(n):\n",
    "    a, b = 0, 1\n",
    "    for i in range(n):\n",
    "        yield a\n",
    "        a, b = b, a + b\n"
   ]
  },
  {
   "cell_type": "code",
   "execution_count": 9,
   "id": "115fb014",
   "metadata": {},
   "outputs": [
    {
     "name": "stdout",
     "output_type": "stream",
     "text": [
      "<generator object fibonacci at 0x0000022CB45E6350>\n"
     ]
    }
   ],
   "source": [
    "a=fibonacci(10)\n",
    "print(a)"
   ]
  },
  {
   "cell_type": "code",
   "execution_count": 12,
   "id": "9eb2f05f",
   "metadata": {},
   "outputs": [
    {
     "name": "stdout",
     "output_type": "stream",
     "text": [
      "0,1,1,2,3,5,8,13,21,34,55,89,144,233,377,"
     ]
    }
   ],
   "source": [
    "a=fibonacci(15)\n",
    "for i in a:\n",
    "    print(i, end=\",\")"
   ]
  },
  {
   "cell_type": "code",
   "execution_count": null,
   "id": "3f109238",
   "metadata": {},
   "outputs": [],
   "source": []
  },
  {
   "cell_type": "markdown",
   "id": "3c0b468a",
   "metadata": {},
   "source": [
    "Q5. Create a generator function for prime numbers less than 1000. Use the next() method to print the\n",
    "first 20 prime numbers."
   ]
  },
  {
   "cell_type": "code",
   "execution_count": 13,
   "id": "016e0364",
   "metadata": {},
   "outputs": [],
   "source": [
    "#code:\n",
    "\n",
    "def primes():\n",
    "    num = 2\n",
    "    while True:\n",
    "        if all(num % i != 0 for i in range(2, int(num ** 0.5) + 1)):\n",
    "            yield num\n",
    "        num += 1\n",
    "        if num >= 1000:\n",
    "            break\n"
   ]
  },
  {
   "cell_type": "code",
   "execution_count": 15,
   "id": "4d523e3e",
   "metadata": {},
   "outputs": [
    {
     "name": "stdout",
     "output_type": "stream",
     "text": [
      "2,3,5,7,11,13,17,19,23,29,31,37,41,43,47,53,59,61,67,71,"
     ]
    }
   ],
   "source": [
    "prime_generator = primes()\n",
    "\n",
    "for i in range(20):\n",
    "    print(next(prime_generator),end=\",\")\n"
   ]
  },
  {
   "cell_type": "raw",
   "id": "d9f90a96",
   "metadata": {},
   "source": [
    "-------------------submitted by anil Kuamr-----anilkumar14.da@gmail.com-----------------------------------------------"
   ]
  },
  {
   "cell_type": "code",
   "execution_count": null,
   "id": "b8937178",
   "metadata": {},
   "outputs": [],
   "source": []
  }
 ],
 "metadata": {
  "kernelspec": {
   "display_name": "Python 3 (ipykernel)",
   "language": "python",
   "name": "python3"
  },
  "language_info": {
   "codemirror_mode": {
    "name": "ipython",
    "version": 3
   },
   "file_extension": ".py",
   "mimetype": "text/x-python",
   "name": "python",
   "nbconvert_exporter": "python",
   "pygments_lexer": "ipython3",
   "version": "3.9.7"
  },
  "varInspector": {
   "cols": {
    "lenName": 16,
    "lenType": 16,
    "lenVar": 40
   },
   "kernels_config": {
    "python": {
     "delete_cmd_postfix": "",
     "delete_cmd_prefix": "del ",
     "library": "var_list.py",
     "varRefreshCmd": "print(var_dic_list())"
    },
    "r": {
     "delete_cmd_postfix": ") ",
     "delete_cmd_prefix": "rm(",
     "library": "var_list.r",
     "varRefreshCmd": "cat(var_dic_list()) "
    }
   },
   "types_to_exclude": [
    "module",
    "function",
    "builtin_function_or_method",
    "instance",
    "_Feature"
   ],
   "window_display": false
  }
 },
 "nbformat": 4,
 "nbformat_minor": 5
}
