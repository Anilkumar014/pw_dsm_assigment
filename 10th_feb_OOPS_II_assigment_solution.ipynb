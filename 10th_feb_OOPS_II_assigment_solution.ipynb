{
 "cells": [
  {
   "cell_type": "markdown",
   "id": "46032553",
   "metadata": {},
   "source": [
    "## 10th_feb_OOPS_II_assigment_solution"
   ]
  },
  {
   "cell_type": "markdown",
   "id": "71010ea6",
   "metadata": {},
   "source": [
    "Q1. Which function is used to open a file? What are the different modes of opening a file? Explain each mode\n",
    "of file opening."
   ]
  },
  {
   "cell_type": "markdown",
   "id": "3fc58a38",
   "metadata": {},
   "source": [
    "Ans:\n",
    "\n",
    "The open() function is used to open a file. It takes two arguments: the first argument is the name of the file to be opened and the second argument is the mode in which the file is to be opened. The basic syntax for opening a file is:m"
   ]
  },
  {
   "cell_type": "code",
   "execution_count": 4,
   "id": "7c7d4d2e",
   "metadata": {},
   "outputs": [],
   "source": [
    "#example:\n",
    "file_new = open(\"my_file.txt\", \"w\")\n",
    "file_new.close()"
   ]
  },
  {
   "cell_type": "code",
   "execution_count": 8,
   "id": "30fd75db",
   "metadata": {},
   "outputs": [
    {
     "name": "stdout",
     "output_type": "stream",
     "text": [
      "\n"
     ]
    }
   ],
   "source": [
    "#Another Example\n",
    "\n",
    "with open(\"my_file.txt\", \"r\") as f:\n",
    "    print()\n",
    "\n",
    "f.close()"
   ]
  },
  {
   "cell_type": "code",
   "execution_count": 9,
   "id": "4c2d751f",
   "metadata": {},
   "outputs": [],
   "source": [
    "pw = open(\"my_file.txt\", \"w\")"
   ]
  },
  {
   "cell_type": "code",
   "execution_count": 10,
   "id": "60ed517a",
   "metadata": {},
   "outputs": [],
   "source": [
    "pw.write(\" this is my test programm for pw dsm assigment\")\n",
    "pw.close()"
   ]
  },
  {
   "cell_type": "code",
   "execution_count": 11,
   "id": "28c9ca89",
   "metadata": {},
   "outputs": [],
   "source": [
    "pw = open(\"my_file.txt\", \"r\")"
   ]
  },
  {
   "cell_type": "code",
   "execution_count": 12,
   "id": "719b34ca",
   "metadata": {},
   "outputs": [
    {
     "data": {
      "text/plain": [
       "' this is my test programm for pw dsm assigment'"
      ]
     },
     "execution_count": 12,
     "metadata": {},
     "output_type": "execute_result"
    }
   ],
   "source": [
    "pw.read()"
   ]
  },
  {
   "cell_type": "code",
   "execution_count": null,
   "id": "ec1305ed",
   "metadata": {},
   "outputs": [],
   "source": []
  },
  {
   "cell_type": "code",
   "execution_count": 15,
   "id": "84eccb52",
   "metadata": {},
   "outputs": [
    {
     "name": "stdout",
     "output_type": "stream",
     "text": [
      ".ipynb_checkpoints\n",
      "10th_feb_OOPS_II_assigment_solution.ipynb\n",
      "12th_feb_Exception_Handeling_assigment_solution.ipynb\n",
      "13th_feb_exception_handeling_II_assigment_solution.ipynb\n",
      "14th_feb_multithreading_assigment_solution.ipynb\n",
      "15th_Memory_management_assigment_solution.ipynb\n",
      "16th_feb_MYSQL_assigment_solution.ipynb\n",
      "2nd_feb_tuple_list_dict_assigment_solution.ipynb\n",
      "30th_jan_python_assigment_solution.ipynb\n",
      "3rd_feb_function_assigment_solution.ipynb\n",
      "4th_feb_function_II_assigment_solution.ipynb\n",
      "5th_OOPS_assigment_solution.ipynb\n",
      "6th_feb_python_task_1_assigment_solution.ipynb\n",
      "7th_feb_task_2_solution.ipynb\n",
      "9th_feb_oops_task.ipynb\n",
      "my_file.txt\n"
     ]
    }
   ],
   "source": [
    "#show all file name\n",
    "import os\n",
    "path = 'C:/Users/Anil/Desktop/PWSKILL/Assigment'\n",
    "files = os.listdir(path)\n",
    "for file in files:\n",
    "    print(file)"
   ]
  },
  {
   "cell_type": "code",
   "execution_count": null,
   "id": "4b42a58f",
   "metadata": {},
   "outputs": [],
   "source": []
  },
  {
   "cell_type": "markdown",
   "id": "94511cbb",
   "metadata": {},
   "source": [
    "Q2. Why close() function is used? Why is it important to close a file?"
   ]
  },
  {
   "cell_type": "markdown",
   "id": "35678dd6",
   "metadata": {},
   "source": [
    "Ans:\n",
    "the close() function is used to close a file after it has been opened using the open() function. It is important to close a file after it has been used for several reasons:\n",
    "1. the operating system allocates resources such as file descriptors to the file. These resources are limited, so it is important to release them when they are no longer needed.\n",
    "2. when we change somthing in file we need to close the file for the properly saving of file."
   ]
  },
  {
   "cell_type": "code",
   "execution_count": null,
   "id": "61e284f8",
   "metadata": {},
   "outputs": [],
   "source": []
  },
  {
   "cell_type": "markdown",
   "id": "81584558",
   "metadata": {},
   "source": [
    "Q3. Write a python program to create a text file. Write ‘I want to become a Data Scientist’ in that file. Then\n",
    "close the file. Open this file and read the content of the file."
   ]
  },
  {
   "cell_type": "code",
   "execution_count": 33,
   "id": "5105747c",
   "metadata": {},
   "outputs": [],
   "source": [
    "file = open(\"my_text.txt\", \"w\")"
   ]
  },
  {
   "cell_type": "code",
   "execution_count": 34,
   "id": "da7646d3",
   "metadata": {},
   "outputs": [
    {
     "data": {
      "text/plain": [
       "33"
      ]
     },
     "execution_count": 34,
     "metadata": {},
     "output_type": "execute_result"
    }
   ],
   "source": [
    "file.write('I want to become a Data Scientist')"
   ]
  },
  {
   "cell_type": "code",
   "execution_count": 35,
   "id": "0927ca84",
   "metadata": {},
   "outputs": [],
   "source": [
    "file.close()"
   ]
  },
  {
   "cell_type": "code",
   "execution_count": 36,
   "id": "773178b6",
   "metadata": {},
   "outputs": [],
   "source": [
    "file = open(\"my_text.txt\", \"r\")"
   ]
  },
  {
   "cell_type": "code",
   "execution_count": 37,
   "id": "e97f8aab",
   "metadata": {},
   "outputs": [
    {
     "data": {
      "text/plain": [
       "'I want to become a Data Scientist'"
      ]
     },
     "execution_count": 37,
     "metadata": {},
     "output_type": "execute_result"
    }
   ],
   "source": [
    "file.read()"
   ]
  },
  {
   "cell_type": "code",
   "execution_count": 38,
   "id": "7edbded1",
   "metadata": {},
   "outputs": [
    {
     "data": {
      "text/plain": [
       "0"
      ]
     },
     "execution_count": 38,
     "metadata": {},
     "output_type": "execute_result"
    }
   ],
   "source": [
    "file.seek(0)"
   ]
  },
  {
   "cell_type": "code",
   "execution_count": 39,
   "id": "95d8dad3",
   "metadata": {},
   "outputs": [
    {
     "data": {
      "text/plain": [
       "'I want to become a Data Scientist'"
      ]
     },
     "execution_count": 39,
     "metadata": {},
     "output_type": "execute_result"
    }
   ],
   "source": [
    "file.read()"
   ]
  },
  {
   "cell_type": "code",
   "execution_count": null,
   "id": "8d6e9329",
   "metadata": {},
   "outputs": [],
   "source": []
  },
  {
   "cell_type": "code",
   "execution_count": null,
   "id": "95ef5a80",
   "metadata": {},
   "outputs": [],
   "source": []
  },
  {
   "cell_type": "markdown",
   "id": "24b12529",
   "metadata": {},
   "source": [
    "Q4. Explain the following with python code: read(), readline() and readlines()."
   ]
  },
  {
   "cell_type": "markdown",
   "id": "e1e1f8ab",
   "metadata": {},
   "source": [
    "read() method:\n",
    "\n",
    "The read() method reads the entire content of a file and returns it as a single string. Here's an example"
   ]
  },
  {
   "cell_type": "code",
   "execution_count": null,
   "id": "0bec1e1b",
   "metadata": {},
   "outputs": [],
   "source": [
    "#example\n",
    "file = open(\"my_text.txt\", \"r\")\n",
    "file.read()"
   ]
  },
  {
   "cell_type": "markdown",
   "id": "6274a2c8",
   "metadata": {},
   "source": [
    "readline() method:\n",
    "\n",
    "The readline() method reads a single line from the file and returns it as a string. Each time you call readline(), it will return the next line until it reaches the end of the file."
   ]
  },
  {
   "cell_type": "code",
   "execution_count": 40,
   "id": "8cb910f7",
   "metadata": {},
   "outputs": [
    {
     "name": "stdout",
     "output_type": "stream",
     "text": [
      "I want to become a Data Scientist\n",
      "\n"
     ]
    }
   ],
   "source": [
    "#example\n",
    "with open(\"my_text.txt\", \"r\") as file:\n",
    "    line1 = file.readline()\n",
    "    line2 = file.readline()\n",
    "    print(line1)\n",
    "    print(line2)"
   ]
  },
  {
   "cell_type": "markdown",
   "id": "9b38e801",
   "metadata": {},
   "source": [
    "readlines() method:\n",
    "\n",
    "The readlines() method reads the entire file content and returns it as a list of strings, where each string represents a single line in the file"
   ]
  },
  {
   "cell_type": "code",
   "execution_count": 41,
   "id": "21070a10",
   "metadata": {},
   "outputs": [
    {
     "name": "stdout",
     "output_type": "stream",
     "text": [
      "['I want to become a Data Scientist']\n"
     ]
    }
   ],
   "source": [
    "#example\n",
    "\n",
    "with open(\"my_text.txt\", \"r\") as file:\n",
    "    lines = file.readlines()\n",
    "    print(lines)"
   ]
  },
  {
   "cell_type": "code",
   "execution_count": null,
   "id": "eae9f260",
   "metadata": {},
   "outputs": [],
   "source": []
  },
  {
   "cell_type": "markdown",
   "id": "24fda895",
   "metadata": {},
   "source": [
    "Q5. Explain why with statement is used with open(). What is the advantage of using with statement and\n",
    "open() together?"
   ]
  },
  {
   "cell_type": "markdown",
   "id": "884aadc1",
   "metadata": {},
   "source": [
    "Answer:\n",
    "\n",
    "The with statement is used with the open() function in Python for file input/output operations. The purpose of the with statement is to provide a convenient way to ensure that a file is closed after it has been used, regardless of whether an exception is raised during the processing of the file.\n",
    "\n",
    "The advantage of using the with statement and open() together is that it ensures that the file is automatically closed after it is used. When we use the open() function to open a file, we need to close it explicitly using the close() method. If we forget to close the file, it can cause memory leaks or other issue"
   ]
  },
  {
   "cell_type": "code",
   "execution_count": null,
   "id": "9551eb15",
   "metadata": {},
   "outputs": [],
   "source": []
  },
  {
   "cell_type": "markdown",
   "id": "a22ac8f3",
   "metadata": {},
   "source": [
    "Q6. Explain the write() and writelines() functions. Give a suitable example."
   ]
  },
  {
   "cell_type": "markdown",
   "id": "e039e9ee",
   "metadata": {},
   "source": [
    "Ans:\n",
    "    \n",
    "The write() function is used to write a single string to a file. The string is passed as an argument to the write() function. If the file does not exist, it is created. If the file already exists, the write() function will overwrite the existing contents of the file.m"
   ]
  },
  {
   "cell_type": "code",
   "execution_count": 43,
   "id": "71e598a0",
   "metadata": {},
   "outputs": [],
   "source": [
    "#example\n",
    "with open('test1.txt', 'w') as f:\n",
    "    f.write('This is an example.\\n')\n",
    "    f.write('We are writing to a file.\\n')\n",
    "    \n"
   ]
  },
  {
   "cell_type": "markdown",
   "id": "0943ab39",
   "metadata": {},
   "source": [
    "The writelines() function, on the other hand, is used to write a list of strings to a file. Each string is written to the file as a separate line. If the file does not exist, it is created. If the file already exists, the writelines() function will overwrite the existing contents of the file."
   ]
  },
  {
   "cell_type": "code",
   "execution_count": 44,
   "id": "9148a799",
   "metadata": {},
   "outputs": [],
   "source": [
    "#example\n",
    "lines = ['PW Skill Providing Data Science Course', 'i am the student of PW skills', 'i am become a data science']\n",
    "with open('test2.txt', 'w') as f:\n",
    "    f.writelines(lines)\n"
   ]
  },
  {
   "cell_type": "code",
   "execution_count": 45,
   "id": "225fb776",
   "metadata": {},
   "outputs": [],
   "source": [
    "f= open('test2.txt', 'r')"
   ]
  },
  {
   "cell_type": "code",
   "execution_count": 46,
   "id": "ba9422fd",
   "metadata": {},
   "outputs": [
    {
     "data": {
      "text/plain": [
       "'PW Skill Providing Data Science Coursei am the student of PW skillsi am become a data science'"
      ]
     },
     "execution_count": 46,
     "metadata": {},
     "output_type": "execute_result"
    }
   ],
   "source": [
    "f.read()"
   ]
  },
  {
   "cell_type": "code",
   "execution_count": 48,
   "id": "575f27cc",
   "metadata": {},
   "outputs": [],
   "source": [
    "f.close()"
   ]
  },
  {
   "cell_type": "code",
   "execution_count": null,
   "id": "90eeafc8",
   "metadata": {},
   "outputs": [],
   "source": []
  }
 ],
 "metadata": {
  "kernelspec": {
   "display_name": "Python 3 (ipykernel)",
   "language": "python",
   "name": "python3"
  },
  "language_info": {
   "codemirror_mode": {
    "name": "ipython",
    "version": 3
   },
   "file_extension": ".py",
   "mimetype": "text/x-python",
   "name": "python",
   "nbconvert_exporter": "python",
   "pygments_lexer": "ipython3",
   "version": "3.9.7"
  },
  "varInspector": {
   "cols": {
    "lenName": 16,
    "lenType": 16,
    "lenVar": 40
   },
   "kernels_config": {
    "python": {
     "delete_cmd_postfix": "",
     "delete_cmd_prefix": "del ",
     "library": "var_list.py",
     "varRefreshCmd": "print(var_dic_list())"
    },
    "r": {
     "delete_cmd_postfix": ") ",
     "delete_cmd_prefix": "rm(",
     "library": "var_list.r",
     "varRefreshCmd": "cat(var_dic_list()) "
    }
   },
   "types_to_exclude": [
    "module",
    "function",
    "builtin_function_or_method",
    "instance",
    "_Feature"
   ],
   "window_display": false
  }
 },
 "nbformat": 4,
 "nbformat_minor": 5
}
